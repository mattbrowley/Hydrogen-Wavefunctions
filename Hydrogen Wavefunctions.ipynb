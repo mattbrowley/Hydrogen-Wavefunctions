{
 "cells": [
  {
   "cell_type": "markdown",
   "metadata": {},
   "source": [
    "#Hydrogen Wavefunctions\n",
    "All of the hydrogen wavefunctions you could ever want - All in one place!\n",
    "\n",
    "##Complete Wavefunctions\n",
    "These functions combine the radial, angular, and time dependencies into one equation.\n",
    "\n",
    "To find the time-independent solutions, remove the $e^{-i\\frac{E_n}{\\hbar}t}$.\n",
    "\n",
    "To use atomic units (in terms of the Bohr radius), let $\\frac{r}{a_0} = r$.\n",
    "\n",
    "Of course, hydrogen itself has a nuclear charge of $Z=1$.\n",
    "\n",
    "The wavefunctions have three quantum numbers, $n$, $l$, and $m_l$. They are parameters to the wavefunction $\\Psi_{n,l,m_l}$.\n",
    "\n",
    "###Complex-Valued Wavefunctions\n",
    "\n",
    "\\begin{equation*}\n",
    "    \\Psi_{1,0,0}(r,\\theta,\\phi,t) = \\frac{1}{\\sqrt{\\pi}}\\left(\\frac{Z}{a_0}\\right)^{\\frac{3}{2}}e^{\\frac{-Zr}{a_0}}e^{-i\\frac{E_{1}}{\\hbar}t}\n",
    "\\end{equation*}\n",
    "\n",
    "\n",
    "\\begin{equation*}\n",
    "    \\Psi_{2,0,0}(r,\\theta,\\phi,t) = \\frac{1}{4\\sqrt{2\\pi}}\\left(\\frac{Z}{a_0}\\right)^{\\frac{3}{2}}\\left(2-\\frac{Zr}{a_0}\\right)e^{\\frac{-Zr}{2a_0}}e^{-i\\frac{E_{2}}{\\hbar}t}\n",
    "\\end{equation*}\n",
    "\n",
    "\n",
    "\\begin{equation*}\n",
    "    \\Psi_{2,1,0}(r,\\theta,\\phi,t) = \\frac{1}{4\\sqrt{2\\pi}}\\left(\\frac{Z}{a_0}\\right)^{\\frac{5}{2}}re^{\\frac{-Zr}{2a_0}}\\cos\\theta e^{-i\\frac{E_{2}}{\\hbar}t}\n",
    "\\end{equation*}\n",
    "\n",
    "\n",
    "\\begin{equation*}\n",
    "    \\Psi_{2,1,\\pm1}(r,\\theta,\\phi,t) = \\frac{1}{8\\sqrt{\\pi}}\\left(\\frac{Z}{a_0}\\right)^{\\frac{5}{2}}re^{\\frac{-Zr}{2a_0}}\\sin\\theta e^{\\pm i\\phi}e^{-i\\frac{E_{2}}{\\hbar}t}\n",
    "\\end{equation*}\n",
    "\n",
    "### Real-Valued Wavefunctions\n",
    "\n",
    "All of the $m_l=0$ wavefunctions above are already real-valued, so here I only list the new wavefunctions which combine $\\pm m_l\\neq0$.\n",
    "\n",
    "## Radial Wavefunctions\n",
    "\n",
    "## Angular Wavefunctions"
   ]
  },
  {
   "cell_type": "code",
   "execution_count": null,
   "metadata": {
    "collapsed": true
   },
   "outputs": [],
   "source": []
  }
 ],
 "metadata": {
  "kernelspec": {
   "display_name": "Python 2",
   "language": "python",
   "name": "python2"
  },
  "language_info": {
   "codemirror_mode": {
    "name": "ipython",
    "version": 2
   },
   "file_extension": ".py",
   "mimetype": "text/x-python",
   "name": "python",
   "nbconvert_exporter": "python",
   "pygments_lexer": "ipython2",
   "version": "2.7.6"
  }
 },
 "nbformat": 4,
 "nbformat_minor": 0
}
