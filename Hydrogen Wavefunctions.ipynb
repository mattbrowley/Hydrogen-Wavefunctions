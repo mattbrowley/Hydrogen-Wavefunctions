{
 "cells": [
  {
   "cell_type": "markdown",
   "metadata": {},
   "source": [
    "#Hydrogen Wavefunctions\n",
    "All of the hydrogen wavefunctions you could ever want - All in one place!\n",
    "\n",
    "##Complete Wavefunctions\n",
    "These functions combine the radial, angular, and time dependencies into one equation. To find the time-independent solutions, just remove the $e^{-i\\frac{E_n}{\\hbar}t}$.\n",
    "\n",
    "###Complex-Valued Wavefunctions\n",
    "\n",
    "$\\Psi_{1,0,0}(r,\\theta,\\phi,t) = \\frac{1}{\\sqrt{\\pi}}\\left(\\frac{Z}{a_0}\\right)^{\\frac{3}{2}}e^{\\frac{-r}{a_0}}e^{-i\\frac{E_{1}}{\\hbar}t}$\n",
    "\n",
    "\\begin{equation}\n",
    "    \\Psi_{1,0,0}(r,\\theta,\\phi,t) = \\frac{1}{\\sqrt{\\pi}}\\left(\\frac{Z}{a_0}\\right)^{\\frac{3}{2}}e^{\\frac{-r}{a_0}}e^{-i\\frac{E_{1}}{\\hbar}t}\n",
    "\\end{equation}\n"
   ]
  },
  {
   "cell_type": "code",
   "execution_count": null,
   "metadata": {
    "collapsed": true
   },
   "outputs": [],
   "source": []
  }
 ],
 "metadata": {
  "kernelspec": {
   "display_name": "Python 2",
   "language": "python",
   "name": "python2"
  },
  "language_info": {
   "codemirror_mode": {
    "name": "ipython",
    "version": 2
   },
   "file_extension": ".py",
   "mimetype": "text/x-python",
   "name": "python",
   "nbconvert_exporter": "python",
   "pygments_lexer": "ipython2",
   "version": "2.7.6"
  }
 },
 "nbformat": 4,
 "nbformat_minor": 0
}
